{
 "cells": [
  {
   "cell_type": "code",
   "execution_count": 1,
   "id": "d7efd494-bb37-4357-aad2-4f85d22ae23a",
   "metadata": {},
   "outputs": [
    {
     "name": "stdout",
     "output_type": "stream",
     "text": [
      "Requirement already satisfied: Cmake in c:\\users\\asus\\anaconda3\\lib\\site-packages (3.31.0.1)\n",
      "Requirement already satisfied: dlib in c:\\users\\asus\\anaconda3\\lib\\site-packages (19.24.6)\n",
      "Requirement already satisfied: face_recognition in c:\\users\\asus\\anaconda3\\lib\\site-packages (1.3.0)\n",
      "Requirement already satisfied: face-recognition-models>=0.3.0 in c:\\users\\asus\\anaconda3\\lib\\site-packages (from face_recognition) (0.3.0)\n",
      "Requirement already satisfied: Click>=6.0 in c:\\users\\asus\\anaconda3\\lib\\site-packages (from face_recognition) (8.1.7)\n",
      "Requirement already satisfied: dlib>=19.7 in c:\\users\\asus\\anaconda3\\lib\\site-packages (from face_recognition) (19.24.6)\n",
      "Requirement already satisfied: numpy in c:\\users\\asus\\anaconda3\\lib\\site-packages (from face_recognition) (1.26.4)\n",
      "Requirement already satisfied: Pillow in c:\\users\\asus\\anaconda3\\lib\\site-packages (from face_recognition) (10.3.0)\n",
      "Requirement already satisfied: colorama in c:\\users\\asus\\anaconda3\\lib\\site-packages (from Click>=6.0->face_recognition) (0.4.6)\n"
     ]
    },
    {
     "name": "stderr",
     "output_type": "stream",
     "text": [
      "ERROR: Could not find a version that satisfies the requirement face_recognition--no-deps (from versions: none)\n",
      "ERROR: No matching distribution found for face_recognition--no-deps\n"
     ]
    }
   ],
   "source": [
    "!pip install Cmake\n",
    "!pip install dlib\n",
    "!pip install face_recognition\n",
    "!pip install face_recognition--no-deps"
   ]
  },
  {
   "cell_type": "code",
   "execution_count": 2,
   "id": "6a118d7e-5345-45c6-ae15-8f9b9904832e",
   "metadata": {},
   "outputs": [],
   "source": [
    "import face_recognition"
   ]
  },
  {
   "cell_type": "code",
   "execution_count": 3,
   "id": "d38ffa08-806b-48d5-b1d3-2e778d8016f9",
   "metadata": {},
   "outputs": [],
   "source": [
    "import matplotlib.pyplot as plt\n",
    "%matplotlib inline\n",
    "from PIL import Image\n",
    "import sys,cv2"
   ]
  },
  {
   "cell_type": "markdown",
   "id": "a08b8e89-9498-4299-be8d-3d8e2983caa4",
   "metadata": {},
   "source": [
    "# "
   ]
  }
 ],
 "metadata": {
  "kernelspec": {
   "display_name": "Python 3 (ipykernel)",
   "language": "python",
   "name": "python3"
  },
  "language_info": {
   "codemirror_mode": {
    "name": "ipython",
    "version": 3
   },
   "file_extension": ".py",
   "mimetype": "text/x-python",
   "name": "python",
   "nbconvert_exporter": "python",
   "pygments_lexer": "ipython3",
   "version": "3.12.4"
  }
 },
 "nbformat": 4,
 "nbformat_minor": 5
}
