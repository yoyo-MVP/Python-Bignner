{
 "cells": [
  {
   "cell_type": "code",
   "execution_count": 19,
   "id": "bce74d04-3769-4151-be60-75bcc27fde5d",
   "metadata": {
    "scrolled": true
   },
   "outputs": [
    {
     "name": "stdout",
     "output_type": "stream",
     "text": [
      "Requirement already satisfied: pygame in c:\\users\\asus\\anaconda3\\lib\\site-packages (2.6.1)\n"
     ]
    }
   ],
   "source": [
    "!pip install pygame"
   ]
  },
  {
   "cell_type": "code",
   "execution_count": 20,
   "id": "aca16fdc-22bd-4f16-8aaf-625b35b1d338",
   "metadata": {},
   "outputs": [],
   "source": [
    "import pygame,sys,time,random"
   ]
  },
  {
   "cell_type": "code",
   "execution_count": 21,
   "id": "56f05e4d-e81e-4c25-9960-c8b76f12986e",
   "metadata": {},
   "outputs": [],
   "source": [
    "difficulty=25"
   ]
  },
  {
   "cell_type": "code",
   "execution_count": 22,
   "id": "c43fb8b4-07b1-4193-8bcb-e58d059ab022",
   "metadata": {},
   "outputs": [],
   "source": [
    "frame_size_x=720\n",
    "frame_size_y=480\n",
    "check_errors=pygame.init()\n",
    "pygame.display.set_caption('Snake Eater')\n",
    "game_window=pygame.display.set_mode((frame_size_x,frame_size_y))"
   ]
  },
  {
   "cell_type": "code",
   "execution_count": 23,
   "id": "fc2bb8a7-4a3f-4b58-b811-0d454d891a32",
   "metadata": {},
   "outputs": [],
   "source": [
    "black=pygame.Color(0,0,0)\n",
    "white=pygame.Color(255,255,255)\n",
    "red=pygame.Color(255,0,0)\n",
    "green=pygame.Color(0,255,0)\n",
    "blue=pygame.Color(0,0,255)\n",
    "fps_controller=pygame.time.Clock()\n",
    "snake_pos=[100,50]\n",
    "snake_body=[[100,50],[100-10,50],[100-(2*10),50]]\n",
    "food_pos=[random.randrange(1,(frame_size_x//10))*10,random.randrange(1,(frame_size_y//10))*10]\n",
    "food_spawn=True\n",
    "direction='RIGHT'\n",
    "change_to=direction\n",
    "score=0"
   ]
  },
  {
   "cell_type": "code",
   "execution_count": 24,
   "id": "a1438730-5363-49d8-af38-b2cd244df12c",
   "metadata": {},
   "outputs": [],
   "source": [
    "def game_over():\n",
    "    my_font=pygame.font.SysFont('times new roman',90)\n",
    "    game_over_surface=my_font.render('YOU DIED',True,red)\n",
    "    game_over_rect=game_over_surface.get_rect()\n",
    "    game_over_rect.midtop=(frame_size_x/2,frame_size_y/4)\n",
    "    game_window.fill(black)\n",
    "    game_window.blit(game_over_surface,game_over_rect)\n",
    "    show_score(0,red,'times',20)\n",
    "    pygame.display.flip()\n",
    "    time.sleep(3)\n",
    "    pygame.quit()\n",
    "    sys.exit()"
   ]
  },
  {
   "cell_type": "code",
   "execution_count": 25,
   "id": "d1c37b86-fc41-4058-99df-89d3924a1321",
   "metadata": {},
   "outputs": [],
   "source": [
    "def show_score(choice,color,font,size):\n",
    "    score_font=pygame.font.SysFont(font,size)\n",
    "    score_surface=score_font.render('Score'+str(score),True,color)\n",
    "    score_rect=score_surface.get_rect()\n",
    "    if choice==1:\n",
    "        score_rect.midtop=(frame_size_x/10,15)\n",
    "    else:\n",
    "        score_rect.midtop=(frame_size_x/2,frame_size_y/1.25)\n",
    "    game_window.blit(score_surface,score_rect)"
   ]
  },
  {
   "cell_type": "code",
   "execution_count": 26,
   "id": "1763df79-0298-4fd8-9df3-5d6293424e80",
   "metadata": {},
   "outputs": [
    {
     "ename": "SystemExit",
     "evalue": "",
     "output_type": "error",
     "traceback": [
      "An exception has occurred, use %tb to see the full traceback.\n",
      "\u001b[1;31mSystemExit\u001b[0m\n"
     ]
    }
   ],
   "source": [
    "while True:\n",
    "    for event in pygame.event.get():\n",
    "        if event.type==pygame.QUIT:\n",
    "            pygame.quit()\n",
    "            sys.exit()\n",
    "        elif event.type==pygame.KEYDOWN:\n",
    "            if event.key==pygame.K_UP or event.key==ord('w'):\n",
    "                change_to='UP'\n",
    "            if event.key==pygame.K_DOWN or event.key==ord('s'):\n",
    "                change_to='DOWN'\n",
    "            if event.key==pygame.K_LEFT or event.key==ord('a'):\n",
    "                change_to='LEFT'\n",
    "            if event.key==pygame.K_RIGHT or event.key==ord('d'):\n",
    "                change_to='RIGHT'\n",
    "            if event.key==pygame.K_ESCAPE:\n",
    "                pygame.event.post(pygame.event.Event(pygame.QUIT))\n",
    "        if change_to=='UP' and direction!='DOWN':\n",
    "            direction='UP'\n",
    "        if change_to=='DOWN' and direction!='UP':\n",
    "            direction='DOWN'\n",
    "        if change_to=='LEFT' and direction!='RIGHT':\n",
    "            direction='LEFT'\n",
    "        if change_to=='RIGHT' and direction!='LEFT':\n",
    "            direction='RIGHT'\n",
    "        if direction=='UP':\n",
    "            snake_pos[1]-=10\n",
    "        if direction=='DOWN':\n",
    "            snake_pos[1]+=10\n",
    "        if direction=='LEFT':\n",
    "            snake_pos[0]-=10\n",
    "        if direction=='RIGHT':\n",
    "            snake_pos[0]+=10\n",
    "        snake_body.insert(0,list(snake_pos))\n",
    "        if snake_pos[0]==food_pos[0] and snake_pos[1]==food_pos[1]:\n",
    "            score+=1\n",
    "            food_spawn=False\n",
    "        else:\n",
    "            snake_body.pop()\n",
    "        if not food_spawn:\n",
    "            food_pos=[random.randrange(1,(frame_size_x//10))*10,\n",
    "                      random.randrange(1,(frame_size_y//10))*10]\n",
    "        food_spawn=True\n",
    "        game_window.fill(black)\n",
    "        for pos in snake_body:\n",
    "            pygame.draw.rect(game_window,green,pygame.Rect(pos[0],pos[1],10,10))\n",
    "        pygame.draw.rect(game_window,white,pygame.Rect(food_pos[0],food_pos[1],10,10))\n",
    "        if snake_pos[0]<0 or snake_pos[0]>frame_size_x-10:\n",
    "            game_over()\n",
    "        if snake_pos[1]<0 or snake_pos[1]>frame_size_y-10:\n",
    "            game_over()\n",
    "        for block in snake_body[1:]:\n",
    "            if snake_pos[0]==block[0] and snake_pos[1]==block[1]:\n",
    "                game_over()\n",
    "        show_score(1,white,'consolas',20)\n",
    "        pygame.display.update()\n",
    "        fps_controller.tick(difficulty)"
   ]
  },
  {
   "cell_type": "code",
   "execution_count": null,
   "id": "34247688-584f-4198-919f-4084aee24f1d",
   "metadata": {},
   "outputs": [],
   "source": []
  },
  {
   "cell_type": "code",
   "execution_count": null,
   "id": "303833af-41ac-415d-abb3-655309850d2b",
   "metadata": {},
   "outputs": [],
   "source": []
  },
  {
   "cell_type": "code",
   "execution_count": null,
   "id": "d3967cda-bdb3-401f-82de-b91c03fefbcf",
   "metadata": {},
   "outputs": [],
   "source": []
  }
 ],
 "metadata": {
  "kernelspec": {
   "display_name": "Python 3 (ipykernel)",
   "language": "python",
   "name": "python3"
  },
  "language_info": {
   "codemirror_mode": {
    "name": "ipython",
    "version": 3
   },
   "file_extension": ".py",
   "mimetype": "text/x-python",
   "name": "python",
   "nbconvert_exporter": "python",
   "pygments_lexer": "ipython3",
   "version": "3.12.4"
  }
 },
 "nbformat": 4,
 "nbformat_minor": 5
}
