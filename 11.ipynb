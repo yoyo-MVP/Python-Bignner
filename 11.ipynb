{
 "cells": [
  {
   "cell_type": "code",
   "execution_count": 1,
   "id": "c8fbb36a-7d17-4f75-84ca-b01ccd068435",
   "metadata": {
    "scrolled": true
   },
   "outputs": [
    {
     "name": "stdout",
     "output_type": "stream",
     "text": [
      "Requirement already satisfied: pytesseract in c:\\users\\asus\\anaconda3\\lib\\site-packages (0.3.13)\n",
      "Requirement already satisfied: packaging>=21.3 in c:\\users\\asus\\anaconda3\\lib\\site-packages (from pytesseract) (23.2)\n",
      "Requirement already satisfied: Pillow>=8.0.0 in c:\\users\\asus\\anaconda3\\lib\\site-packages (from pytesseract) (9.5.0)\n"
     ]
    }
   ],
   "source": [
    "! pip install pytesseract"
   ]
  },
  {
   "cell_type": "code",
   "execution_count": 3,
   "id": "0ebc5a8d-4599-466c-a8a5-ccaf5ff32b51",
   "metadata": {},
   "outputs": [
    {
     "name": "stdout",
     "output_type": "stream",
     "text": [
      "Requirement already satisfied: contours in c:\\users\\asus\\anaconda3\\lib\\site-packages (0.0.2)\n",
      "Requirement already satisfied: numpy>=1.4.0 in c:\\users\\asus\\anaconda3\\lib\\site-packages (from contours) (1.26.4)\n",
      "Requirement already satisfied: matplotlib>=1.5.0 in c:\\users\\asus\\anaconda3\\lib\\site-packages (from contours) (3.8.4)\n",
      "Requirement already satisfied: future in c:\\users\\asus\\anaconda3\\lib\\site-packages (from contours) (1.0.0)\n",
      "Requirement already satisfied: contourpy>=1.0.1 in c:\\users\\asus\\anaconda3\\lib\\site-packages (from matplotlib>=1.5.0->contours) (1.2.0)\n",
      "Requirement already satisfied: cycler>=0.10 in c:\\users\\asus\\anaconda3\\lib\\site-packages (from matplotlib>=1.5.0->contours) (0.11.0)\n",
      "Requirement already satisfied: fonttools>=4.22.0 in c:\\users\\asus\\anaconda3\\lib\\site-packages (from matplotlib>=1.5.0->contours) (4.51.0)\n",
      "Requirement already satisfied: kiwisolver>=1.3.1 in c:\\users\\asus\\anaconda3\\lib\\site-packages (from matplotlib>=1.5.0->contours) (1.4.4)\n",
      "Requirement already satisfied: packaging>=20.0 in c:\\users\\asus\\anaconda3\\lib\\site-packages (from matplotlib>=1.5.0->contours) (23.2)\n",
      "Requirement already satisfied: pillow>=8 in c:\\users\\asus\\anaconda3\\lib\\site-packages (from matplotlib>=1.5.0->contours) (9.5.0)\n",
      "Requirement already satisfied: pyparsing>=2.3.1 in c:\\users\\asus\\anaconda3\\lib\\site-packages (from matplotlib>=1.5.0->contours) (3.0.9)\n",
      "Requirement already satisfied: python-dateutil>=2.7 in c:\\users\\asus\\anaconda3\\lib\\site-packages (from matplotlib>=1.5.0->contours) (2.9.0.post0)\n",
      "Requirement already satisfied: six>=1.5 in c:\\users\\asus\\anaconda3\\lib\\site-packages (from python-dateutil>=2.7->matplotlib>=1.5.0->contours) (1.16.0)\n"
     ]
    }
   ],
   "source": [
    "! pip install contours"
   ]
  },
  {
   "cell_type": "code",
   "execution_count": 5,
   "id": "c15505f7-8121-4c20-8ecd-96bfbab75e2a",
   "metadata": {
    "scrolled": true
   },
   "outputs": [
    {
     "name": "stdout",
     "output_type": "stream",
     "text": [
      "Requirement already satisfied: mediapipe in c:\\users\\asus\\appdata\\roaming\\python\\python312\\site-packages (0.10.20)\n",
      "Requirement already satisfied: absl-py in c:\\users\\asus\\appdata\\roaming\\python\\python312\\site-packages (from mediapipe) (2.1.0)\n",
      "Requirement already satisfied: attrs>=19.1.0 in c:\\users\\asus\\anaconda3\\lib\\site-packages (from mediapipe) (23.1.0)\n",
      "Requirement already satisfied: flatbuffers>=2.0 in c:\\users\\asus\\anaconda3\\lib\\site-packages (from mediapipe) (24.3.25)\n",
      "Requirement already satisfied: jax in c:\\users\\asus\\appdata\\roaming\\python\\python312\\site-packages (from mediapipe) (0.4.38)\n",
      "Requirement already satisfied: jaxlib in c:\\users\\asus\\appdata\\roaming\\python\\python312\\site-packages (from mediapipe) (0.4.38)\n",
      "Requirement already satisfied: matplotlib in c:\\users\\asus\\anaconda3\\lib\\site-packages (from mediapipe) (3.8.4)\n",
      "Requirement already satisfied: numpy<2 in c:\\users\\asus\\anaconda3\\lib\\site-packages (from mediapipe) (1.26.4)\n",
      "Requirement already satisfied: opencv-contrib-python in c:\\users\\asus\\appdata\\roaming\\python\\python312\\site-packages (from mediapipe) (4.10.0.84)\n",
      "Requirement already satisfied: protobuf<5,>=4.25.3 in c:\\users\\asus\\anaconda3\\lib\\site-packages (from mediapipe) (4.25.5)\n",
      "Requirement already satisfied: sounddevice>=0.4.4 in c:\\users\\asus\\appdata\\roaming\\python\\python312\\site-packages (from mediapipe) (0.5.1)\n",
      "Requirement already satisfied: sentencepiece in c:\\users\\asus\\anaconda3\\lib\\site-packages (from mediapipe) (0.2.0)\n",
      "Requirement already satisfied: CFFI>=1.0 in c:\\users\\asus\\anaconda3\\lib\\site-packages (from sounddevice>=0.4.4->mediapipe) (1.16.0)\n",
      "Requirement already satisfied: ml_dtypes>=0.4.0 in c:\\users\\asus\\appdata\\roaming\\python\\python312\\site-packages (from jax->mediapipe) (0.5.0)\n",
      "Requirement already satisfied: opt_einsum in c:\\users\\asus\\anaconda3\\lib\\site-packages (from jax->mediapipe) (3.4.0)\n",
      "Requirement already satisfied: scipy>=1.10 in c:\\users\\asus\\anaconda3\\lib\\site-packages (from jax->mediapipe) (1.13.1)\n",
      "Requirement already satisfied: contourpy>=1.0.1 in c:\\users\\asus\\anaconda3\\lib\\site-packages (from matplotlib->mediapipe) (1.2.0)\n",
      "Requirement already satisfied: cycler>=0.10 in c:\\users\\asus\\anaconda3\\lib\\site-packages (from matplotlib->mediapipe) (0.11.0)\n",
      "Requirement already satisfied: fonttools>=4.22.0 in c:\\users\\asus\\anaconda3\\lib\\site-packages (from matplotlib->mediapipe) (4.51.0)\n",
      "Requirement already satisfied: kiwisolver>=1.3.1 in c:\\users\\asus\\anaconda3\\lib\\site-packages (from matplotlib->mediapipe) (1.4.4)\n",
      "Requirement already satisfied: packaging>=20.0 in c:\\users\\asus\\anaconda3\\lib\\site-packages (from matplotlib->mediapipe) (23.2)\n",
      "Requirement already satisfied: pillow>=8 in c:\\users\\asus\\anaconda3\\lib\\site-packages (from matplotlib->mediapipe) (9.5.0)\n",
      "Requirement already satisfied: pyparsing>=2.3.1 in c:\\users\\asus\\anaconda3\\lib\\site-packages (from matplotlib->mediapipe) (3.0.9)\n",
      "Requirement already satisfied: python-dateutil>=2.7 in c:\\users\\asus\\anaconda3\\lib\\site-packages (from matplotlib->mediapipe) (2.9.0.post0)\n",
      "Requirement already satisfied: pycparser in c:\\users\\asus\\anaconda3\\lib\\site-packages (from CFFI>=1.0->sounddevice>=0.4.4->mediapipe) (2.21)\n",
      "Requirement already satisfied: six>=1.5 in c:\\users\\asus\\anaconda3\\lib\\site-packages (from python-dateutil>=2.7->matplotlib->mediapipe) (1.16.0)\n"
     ]
    }
   ],
   "source": [
    "! pip install mediapipe"
   ]
  },
  {
   "cell_type": "code",
   "execution_count": 7,
   "id": "8107244a-2608-4e43-8950-9fee7793dac9",
   "metadata": {},
   "outputs": [],
   "source": [
    "import numpy as np\n",
    "import cv2\n",
    "import imutils\n",
    "import pytesseract\n",
    "from PIL import Image"
   ]
  },
  {
   "cell_type": "code",
   "execution_count": 9,
   "id": "ecfacbbe-a34d-45d9-baa1-cd19dc0e3a79",
   "metadata": {},
   "outputs": [],
   "source": [
    "pytesseract.pytesseract.tesseract_cmd = r'C:\\Program Files\\Tesseract-OCR\\tesseract.exe'  \n",
    "img=cv2.imread('c:/img.jpg',cv2.IMREAD_COLOR)\n",
    "img=imutils.resize(img,width=500)"
   ]
  },
  {
   "cell_type": "code",
   "execution_count": 11,
   "id": "d7e44b3a-d6d2-413c-bbd4-325c30d1b072",
   "metadata": {},
   "outputs": [],
   "source": [
    "gray=cv2.cvtColor(img,cv2.COLOR_BGR2GRAY)\n",
    "gray=cv2.bilateralFilter(gray,11,17,17)\n",
    "kernel_size=3\n",
    "blur_gray=cv2.GaussianBlur(gray,(kernel_size,kernel_size),0)\n",
    "edged=cv2.Canny(blur_gray,20,120)"
   ]
  },
  {
   "cell_type": "code",
   "execution_count": 13,
   "id": "a09b22bf-7eb7-47b9-b9f2-0136b3696443",
   "metadata": {},
   "outputs": [],
   "source": [
    "cnts,new=cv2.findContours(edged.copy(),cv2.RETR_LIST,cv2.CHAIN_APPROX_SIMPLE)"
   ]
  },
  {
   "cell_type": "code",
   "execution_count": 15,
   "id": "f9a7cdb6-1a85-4841-8f1a-2aeff241526d",
   "metadata": {},
   "outputs": [
    {
     "data": {
      "text/plain": [
       "-1"
      ]
     },
     "execution_count": 15,
     "metadata": {},
     "output_type": "execute_result"
    }
   ],
   "source": [
    "img1=img.copy()\n",
    "cv2.drawContours(img1,cnts,-1,(0,255,0),2)\n",
    "cv2.imshow(\"img1\",img1)\n",
    "cv2.waitKey(0)"
   ]
  },
  {
   "cell_type": "code",
   "execution_count": 16,
   "id": "e75c18da-f790-4fdb-bcf7-4c3185f7d4a9",
   "metadata": {},
   "outputs": [],
   "source": [
    "cnts=sorted(cnts,key=cv2.contourArea,reverse=True)[:30]\n",
    "screenCnt=None\n",
    "img2=img.copy()\n",
    "cv2.drawContours(img2,cnts,-1,(0,255,0),2) \n",
    "cv2.imshow(\"img2\",img2)\n",
    "cv2.waitKey(0)\n",
    "count=0"
   ]
  },
  {
   "cell_type": "code",
   "execution_count": 17,
   "id": "060942a4-2ea3-4528-a836-78792af0d7af",
   "metadata": {},
   "outputs": [],
   "source": [
    "idx=7\n",
    "for c in cnts:\n",
    "    peri=cv2.arcLength(c,True)\n",
    "    approx=cv2.approxPolyDP(c,0.018*peri,True)\n",
    "    if len(approx)==4:    \n",
    "        screenCnt=approx\n",
    "        x,y,w,h=cv2.boundingRect(c)\n",
    "        new_img=img[y:y+h,x:x+w]\n",
    "        cv2.imwrite(\"./\"+str(idx)+\".png\",new_img)\n",
    "        idx+=1\n",
    "        break"
   ]
  },
  {
   "cell_type": "code",
   "execution_count": 20,
   "id": "a19f9e95-fc14-469c-b3e4-68d2b83034f0",
   "metadata": {},
   "outputs": [
    {
     "name": "stdout",
     "output_type": "stream",
     "text": [
      "Number is: HR 26 DA 2330\n",
      "\n"
     ]
    },
    {
     "ename": "AttributeError",
     "evalue": "module 'cv2' has no attribute 'destoryAllWindows'",
     "output_type": "error",
     "traceback": [
      "\u001b[1;31m---------------------------------------------------------------------------\u001b[0m",
      "\u001b[1;31mAttributeError\u001b[0m                            Traceback (most recent call last)",
      "Cell \u001b[1;32mIn[20], line 9\u001b[0m\n\u001b[0;32m      7\u001b[0m \u001b[38;5;28mprint\u001b[39m(\u001b[38;5;124m\"\u001b[39m\u001b[38;5;124mNumber is:\u001b[39m\u001b[38;5;124m\"\u001b[39m,text)\n\u001b[0;32m      8\u001b[0m cv2\u001b[38;5;241m.\u001b[39mwaitKey(\u001b[38;5;241m0\u001b[39m)\n\u001b[1;32m----> 9\u001b[0m cv2\u001b[38;5;241m.\u001b[39mdestoryAllWindows()\n",
      "\u001b[1;31mAttributeError\u001b[0m: module 'cv2' has no attribute 'destoryAllWindows'"
     ]
    }
   ],
   "source": [
    "cv2.drawContours(img,[screenCnt],-1,(0,255,0),1)\n",
    "cv2.imshow(\"Final car\",img)\n",
    "cv2.waitKey(0)\n",
    "Cropped_loc='./7.png'\n",
    "cv2.imshow(\"cropped\",cv2.imread(Cropped_loc))\n",
    "text=pytesseract.image_to_string(Cropped_loc,lang='eng')\n",
    "print(\"Number is:\",text)\n",
    "cv2.waitKey(0)\n",
    "cv2.destoryAllWindows() "
   ]
  },
  {
   "cell_type": "code",
   "execution_count": null,
   "id": "eedea086-9aa7-4cdf-9699-63a226b939a4",
   "metadata": {},
   "outputs": [],
   "source": []
  },
  {
   "cell_type": "code",
   "execution_count": null,
   "id": "b9ded767-1a31-4875-b981-a81391aff594",
   "metadata": {},
   "outputs": [],
   "source": []
  }
 ],
 "metadata": {
  "kernelspec": {
   "display_name": "Python 3 (ipykernel)",
   "language": "python",
   "name": "python3"
  },
  "language_info": {
   "codemirror_mode": {
    "name": "ipython",
    "version": 3
   },
   "file_extension": ".py",
   "mimetype": "text/x-python",
   "name": "python",
   "nbconvert_exporter": "python",
   "pygments_lexer": "ipython3",
   "version": "3.12.4"
  }
 },
 "nbformat": 4,
 "nbformat_minor": 5
}
