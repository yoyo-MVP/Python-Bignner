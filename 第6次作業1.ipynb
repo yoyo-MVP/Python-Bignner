{
 "cells": [
  {
   "cell_type": "code",
   "execution_count": 296,
   "id": "41c41e31-a890-4676-a23f-ba8051e09475",
   "metadata": {},
   "outputs": [
    {
     "name": "stdout",
     "output_type": "stream",
     "text": [
      "Requirement already satisfied: SpeechRecognition in c:\\users\\asus\\anaconda3\\lib\\site-packages (3.11.0)\n",
      "Requirement already satisfied: requests>=2.26.0 in c:\\users\\asus\\anaconda3\\lib\\site-packages (from SpeechRecognition) (2.32.2)\n",
      "Requirement already satisfied: typing-extensions in c:\\users\\asus\\anaconda3\\lib\\site-packages (from SpeechRecognition) (4.11.0)\n",
      "Requirement already satisfied: charset-normalizer<4,>=2 in c:\\users\\asus\\anaconda3\\lib\\site-packages (from requests>=2.26.0->SpeechRecognition) (2.0.4)\n",
      "Requirement already satisfied: idna<4,>=2.5 in c:\\users\\asus\\anaconda3\\lib\\site-packages (from requests>=2.26.0->SpeechRecognition) (3.7)\n",
      "Requirement already satisfied: urllib3<3,>=1.21.1 in c:\\users\\asus\\anaconda3\\lib\\site-packages (from requests>=2.26.0->SpeechRecognition) (2.2.2)\n",
      "Requirement already satisfied: certifi>=2017.4.17 in c:\\users\\asus\\anaconda3\\lib\\site-packages (from requests>=2.26.0->SpeechRecognition) (2024.8.30)\n"
     ]
    }
   ],
   "source": [
    "!pip install SpeechRecognition "
   ]
  },
  {
   "cell_type": "code",
   "execution_count": 297,
   "id": "5d500ff6-f79e-4328-9bd1-44875b6f6342",
   "metadata": {
    "scrolled": true
   },
   "outputs": [],
   "source": [
    "import speech_recognition\n",
    "def listenTo():\n",
    "    r=speech_recognition.Recognizer()\n",
    "    with speech_recognition.Microphone()as source:\n",
    "        r.adjust_for_ambient_noise(source)\n",
    "        audio=r.listen(source)\n",
    "    return r.recognize_google(audio,language='zh-TW')"
   ]
  },
  {
   "cell_type": "code",
   "execution_count": 298,
   "id": "9956a2d8-8ce6-4000-a77a-945155443004",
   "metadata": {
    "scrolled": true
   },
   "outputs": [
    {
     "name": "stdout",
     "output_type": "stream",
     "text": [
      "Requirement already satisfied: gTTS in c:\\users\\asus\\anaconda3\\lib\\site-packages (2.5.3)\n",
      "Requirement already satisfied: requests<3,>=2.27 in c:\\users\\asus\\anaconda3\\lib\\site-packages (from gTTS) (2.32.2)\n",
      "Requirement already satisfied: click<8.2,>=7.1 in c:\\users\\asus\\anaconda3\\lib\\site-packages (from gTTS) (8.1.7)\n",
      "Requirement already satisfied: colorama in c:\\users\\asus\\anaconda3\\lib\\site-packages (from click<8.2,>=7.1->gTTS) (0.4.6)\n",
      "Requirement already satisfied: charset-normalizer<4,>=2 in c:\\users\\asus\\anaconda3\\lib\\site-packages (from requests<3,>=2.27->gTTS) (2.0.4)\n",
      "Requirement already satisfied: idna<4,>=2.5 in c:\\users\\asus\\anaconda3\\lib\\site-packages (from requests<3,>=2.27->gTTS) (3.7)\n",
      "Requirement already satisfied: urllib3<3,>=1.21.1 in c:\\users\\asus\\anaconda3\\lib\\site-packages (from requests<3,>=2.27->gTTS) (2.2.2)\n",
      "Requirement already satisfied: certifi>=2017.4.17 in c:\\users\\asus\\anaconda3\\lib\\site-packages (from requests<3,>=2.27->gTTS) (2024.8.30)\n"
     ]
    }
   ],
   "source": [
    "!pip install gTTS"
   ]
  },
  {
   "cell_type": "code",
   "execution_count": 299,
   "id": "7ae1d927-d942-406f-aeba-89de6a66e80f",
   "metadata": {},
   "outputs": [],
   "source": [
    "import tempfile\n",
    "from gtts import gTTS\n",
    "from pygame import mixer\n",
    "mixer.init()\n",
    "\n",
    "def speak(sentence):\n",
    "    with tempfile.NamedTemporaryFile(delete=True) as fp:\n",
    "        tts = gTTS(text=sentence, lang='zh-tw')\n",
    "        tts.save(\"{}.mp3\".format(fp.name))\n",
    "        mixer.music.load('{}.mp3'.format(fp.name))\n",
    "        mixer.music.play()\n",
    "        \n",
    "speak('大家好')"
   ]
  },
  {
   "cell_type": "code",
   "execution_count": 300,
   "id": "95f4d28d-a636-4bce-a269-8a11a8c3cd05",
   "metadata": {},
   "outputs": [],
   "source": [
    "qa = {'你是誰啊': '我是可愛又聰明的機器人小狗','你喜歡做什麼':'小狗喜歡和主人一起彈吉他!',\n",
    "      '你有沒有男朋友' : '我有一百個男朋友'}"
   ]
  },
  {
   "cell_type": "code",
   "execution_count": 301,
   "id": "8359fd36-fb55-4e05-b068-d67c77b4e53c",
   "metadata": {},
   "outputs": [],
   "source": [
    "speak(qa.get(listenTo(), '聽不懂, 再輸入更多台詞'))"
   ]
  },
  {
   "cell_type": "code",
   "execution_count": null,
   "id": "56e34944-1581-4165-a39e-4888f1f73d96",
   "metadata": {},
   "outputs": [],
   "source": []
  }
 ],
 "metadata": {
  "kernelspec": {
   "display_name": "Python 3 (ipykernel)",
   "language": "python",
   "name": "python3"
  },
  "language_info": {
   "codemirror_mode": {
    "name": "ipython",
    "version": 3
   },
   "file_extension": ".py",
   "mimetype": "text/x-python",
   "name": "python",
   "nbconvert_exporter": "python",
   "pygments_lexer": "ipython3",
   "version": "3.12.4"
  }
 },
 "nbformat": 4,
 "nbformat_minor": 5
}
