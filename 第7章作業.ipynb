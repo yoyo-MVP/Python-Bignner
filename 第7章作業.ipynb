{
 "cells": [
  {
   "cell_type": "code",
   "execution_count": 1,
   "id": "eaf48288-8b56-4536-b78c-25de8cc43e35",
   "metadata": {},
   "outputs": [
    {
     "name": "stdout",
     "output_type": "stream",
     "text": [
      "Requirement already satisfied: lxml in c:\\users\\asus\\anaconda3\\lib\\site-packages (5.2.1)\n"
     ]
    }
   ],
   "source": [
    "! pip install lxml"
   ]
  },
  {
   "cell_type": "code",
   "execution_count": 3,
   "id": "d3c2db4d-1ca1-45cf-8e38-0ebce7f18cf4",
   "metadata": {},
   "outputs": [
    {
     "name": "stdout",
     "output_type": "stream",
     "text": [
      "Collecting lxml_html_clean\n",
      "  Downloading lxml_html_clean-0.4.0-py3-none-any.whl.metadata (2.4 kB)\n",
      "Requirement already satisfied: lxml in c:\\users\\asus\\anaconda3\\lib\\site-packages (from lxml_html_clean) (5.2.1)\n",
      "Downloading lxml_html_clean-0.4.0-py3-none-any.whl (14 kB)\n",
      "Installing collected packages: lxml_html_clean\n",
      "Successfully installed lxml_html_clean-0.4.0\n"
     ]
    }
   ],
   "source": [
    "! pip install lxml_html_clean"
   ]
  },
  {
   "cell_type": "code",
   "execution_count": 5,
   "id": "c25da0bf-9ee7-4784-8a1d-a3b4663cac28",
   "metadata": {},
   "outputs": [
    {
     "name": "stdout",
     "output_type": "stream",
     "text": [
      "Requirement already satisfied: newspaper3k in c:\\users\\asus\\anaconda3\\lib\\site-packages (0.2.8)\n",
      "Requirement already satisfied: beautifulsoup4>=4.4.1 in c:\\users\\asus\\anaconda3\\lib\\site-packages (from newspaper3k) (4.12.3)\n",
      "Requirement already satisfied: Pillow>=3.3.0 in c:\\users\\asus\\anaconda3\\lib\\site-packages (from newspaper3k) (10.3.0)\n",
      "Requirement already satisfied: PyYAML>=3.11 in c:\\users\\asus\\anaconda3\\lib\\site-packages (from newspaper3k) (6.0.1)\n",
      "Requirement already satisfied: cssselect>=0.9.2 in c:\\users\\asus\\anaconda3\\lib\\site-packages (from newspaper3k) (1.2.0)\n",
      "Requirement already satisfied: lxml>=3.6.0 in c:\\users\\asus\\anaconda3\\lib\\site-packages (from newspaper3k) (5.2.1)\n",
      "Requirement already satisfied: nltk>=3.2.1 in c:\\users\\asus\\anaconda3\\lib\\site-packages (from newspaper3k) (3.8.1)\n",
      "Requirement already satisfied: requests>=2.10.0 in c:\\users\\asus\\anaconda3\\lib\\site-packages (from newspaper3k) (2.32.2)\n",
      "Requirement already satisfied: feedparser>=5.2.1 in c:\\users\\asus\\anaconda3\\lib\\site-packages (from newspaper3k) (6.0.11)\n",
      "Requirement already satisfied: tldextract>=2.0.1 in c:\\users\\asus\\anaconda3\\lib\\site-packages (from newspaper3k) (3.2.0)\n",
      "Requirement already satisfied: feedfinder2>=0.0.4 in c:\\users\\asus\\anaconda3\\lib\\site-packages (from newspaper3k) (0.0.4)\n",
      "Requirement already satisfied: jieba3k>=0.35.1 in c:\\users\\asus\\anaconda3\\lib\\site-packages (from newspaper3k) (0.35.1)\n",
      "Requirement already satisfied: python-dateutil>=2.5.3 in c:\\users\\asus\\anaconda3\\lib\\site-packages (from newspaper3k) (2.9.0.post0)\n",
      "Requirement already satisfied: tinysegmenter==0.3 in c:\\users\\asus\\anaconda3\\lib\\site-packages (from newspaper3k) (0.3)\n",
      "Requirement already satisfied: soupsieve>1.2 in c:\\users\\asus\\anaconda3\\lib\\site-packages (from beautifulsoup4>=4.4.1->newspaper3k) (2.5)\n",
      "Requirement already satisfied: six in c:\\users\\asus\\anaconda3\\lib\\site-packages (from feedfinder2>=0.0.4->newspaper3k) (1.16.0)\n",
      "Requirement already satisfied: sgmllib3k in c:\\users\\asus\\anaconda3\\lib\\site-packages (from feedparser>=5.2.1->newspaper3k) (1.0.0)\n",
      "Requirement already satisfied: click in c:\\users\\asus\\anaconda3\\lib\\site-packages (from nltk>=3.2.1->newspaper3k) (8.1.7)\n",
      "Requirement already satisfied: joblib in c:\\users\\asus\\anaconda3\\lib\\site-packages (from nltk>=3.2.1->newspaper3k) (1.4.2)\n",
      "Requirement already satisfied: regex>=2021.8.3 in c:\\users\\asus\\anaconda3\\lib\\site-packages (from nltk>=3.2.1->newspaper3k) (2023.10.3)\n",
      "Requirement already satisfied: tqdm in c:\\users\\asus\\anaconda3\\lib\\site-packages (from nltk>=3.2.1->newspaper3k) (4.66.4)\n",
      "Requirement already satisfied: charset-normalizer<4,>=2 in c:\\users\\asus\\anaconda3\\lib\\site-packages (from requests>=2.10.0->newspaper3k) (2.0.4)\n",
      "Requirement already satisfied: idna<4,>=2.5 in c:\\users\\asus\\anaconda3\\lib\\site-packages (from requests>=2.10.0->newspaper3k) (2.10)\n",
      "Requirement already satisfied: urllib3<3,>=1.21.1 in c:\\users\\asus\\anaconda3\\lib\\site-packages (from requests>=2.10.0->newspaper3k) (2.2.2)\n",
      "Requirement already satisfied: certifi>=2017.4.17 in c:\\users\\asus\\anaconda3\\lib\\site-packages (from requests>=2.10.0->newspaper3k) (2024.8.30)\n",
      "Requirement already satisfied: requests-file>=1.4 in c:\\users\\asus\\anaconda3\\lib\\site-packages (from tldextract>=2.0.1->newspaper3k) (1.5.1)\n",
      "Requirement already satisfied: filelock>=3.0.8 in c:\\users\\asus\\anaconda3\\lib\\site-packages (from tldextract>=2.0.1->newspaper3k) (3.13.1)\n",
      "Requirement already satisfied: colorama in c:\\users\\asus\\anaconda3\\lib\\site-packages (from click->nltk>=3.2.1->newspaper3k) (0.4.6)\n"
     ]
    }
   ],
   "source": [
    "! pip install newspaper3k"
   ]
  },
  {
   "cell_type": "code",
   "execution_count": 7,
   "id": "16ac2e74-b518-411f-9250-806302943b2d",
   "metadata": {},
   "outputs": [],
   "source": [
    "from newspaper import Article\n",
    "import random\n",
    "import string\n",
    "import nltk"
   ]
  },
  {
   "cell_type": "code",
   "execution_count": 9,
   "id": "6d12fed9-395d-441f-9a28-e982fc9595a0",
   "metadata": {},
   "outputs": [],
   "source": [
    "from sklearn.feature_extraction.text import CountVectorizer\n",
    "from sklearn.metrics.pairwise import cosine_similarity\n",
    "import numpy as np\n",
    "import warnings\n",
    "warnings.filterwarnings('ignore')"
   ]
  },
  {
   "cell_type": "code",
   "execution_count": 13,
   "id": "77b0a9bd-e117-4493-b4f3-b80ba469c6c9",
   "metadata": {},
   "outputs": [
    {
     "name": "stderr",
     "output_type": "stream",
     "text": [
      "[nltk_data] Downloading package punkt to\n",
      "[nltk_data]     C:\\Users\\asus\\AppData\\Roaming\\nltk_data...\n",
      "[nltk_data]   Package punkt is already up-to-date!\n"
     ]
    },
    {
     "data": {
      "text/plain": [
       "True"
      ]
     },
     "execution_count": 13,
     "metadata": {},
     "output_type": "execute_result"
    }
   ],
   "source": [
    "nltk.download('punkt')"
   ]
  },
  {
   "cell_type": "code",
   "execution_count": 33,
   "id": "58def555-a280-4db5-a2c6-ad42ba2be18c",
   "metadata": {},
   "outputs": [],
   "source": [
    "article=Article('https://www.mayoclinic.org/diseases-conditions/chronic-kidney-disease/symptoms-causes/syc-20354521')\n",
    "article.download()\n",
    "article.parse()\n",
    "article.nlp()\n",
    "corpus=article.text"
   ]
  },
  {
   "cell_type": "code",
   "execution_count": 35,
   "id": "7bb4226e-f60e-4e77-9e95-2fb69208a38c",
   "metadata": {},
   "outputs": [],
   "source": [
    "text=corpus\n",
    "sentence_list=nltk.sent_tokenize(text)"
   ]
  },
  {
   "cell_type": "code",
   "execution_count": 37,
   "id": "601ec586-5a88-4293-81ab-443b0df8249b",
   "metadata": {},
   "outputs": [],
   "source": [
    "def greeting_response(text):\n",
    "    text=text.lower()\n",
    "    bot_greetings=['howdy','hi','hey','hello','hola']\n",
    "    user_greeings=['hi','hey','hello','hola','greetings','wassup']\n",
    "    for word in text.split():\n",
    "        if word in user_greetings:\n",
    "            return random.choise(bot_greetings)"
   ]
  },
  {
   "cell_type": "code",
   "execution_count": 39,
   "id": "a5e84d34-3435-4ad1-bc1f-62372b4f4467",
   "metadata": {},
   "outputs": [],
   "source": [
    "def index_sort(list_var):\n",
    "    length=len(list_var)\n",
    "    list_index=list(range(0,length))\n",
    "    x=list_var\n",
    "    for i in range(length):\n",
    "        for j in range(length):\n",
    "            if x[list_index[i]]>x[list_index[j]]:\n",
    "                temp=list_index[i]\n",
    "                list_index[i]=list_index[j]\n",
    "                list_index[j]=temp\n",
    "    return list_index"
   ]
  },
  {
   "cell_type": "code",
   "execution_count": 41,
   "id": "bb701064-2589-4e8d-93d5-d7c3d0e18361",
   "metadata": {},
   "outputs": [],
   "source": [
    "def bot_response(user_input):\n",
    "    user_input=user_input.lower()\n",
    "    sentence_list.append(user_input)\n",
    "    bot_response=''\n",
    "    cm=CountVectorizer().fit_transform(sentence_list)\n",
    "    similarity_scores=cosine_similarity(cm[-1],cm)\n",
    "    similarity_scores_list=similarity_scores.flatten()\n",
    "    index=index_sort(similarity_scores_list)\n",
    "    index=index[1:]\n",
    "    response_flag=0\n",
    "    j=0\n",
    "    for i in range(len(index)):\n",
    "        if similarity_scores_list[index[i]]>0.0:\n",
    "            bot_response=bot_response+''+sentence_list[index[i]]\n",
    "            response_flag=1\n",
    "            j=j+1\n",
    "        if j>2:\n",
    "            break\n",
    "    if response_flag==0:\n",
    "        bot_response=bot_response+''+\"I apologize,I don't understant\"\n",
    "    sentence_list.remove(user_input)\n",
    "    return bot_response"
   ]
  },
  {
   "cell_type": "code",
   "execution_count": null,
   "id": "40b665a5-ab5b-4a40-bdff-5aa86259f130",
   "metadata": {},
   "outputs": [
    {
     "name": "stdout",
     "output_type": "stream",
     "text": [
      "Visual creator:I am a visual creator.I will answer your queries about visual creatoion.If you want to exit,type bye.\n"
     ]
    }
   ],
   "source": [
    "print('Visual creator:I am a visual creator.I will answer your queries about visual creatoion.If you want to exit,type bye.')\n",
    "exit_list=['exit','see you later','bye','quit','break']\n",
    "while(True):\n",
    "    user_input=input()\n",
    "    if user_input.lower()in exit_list:\n",
    "        print('Visual creator:Chat with you later')\n",
    "        break\n",
    "    else:\n",
    "        if greeting_response(user_input)!=None:\n",
    "            print('Visual creator:'+greeting_response(user_input))\n",
    "        else:\n",
    "            print('Visual creator:'+bot_response(user_input))"
   ]
  },
  {
   "cell_type": "code",
   "execution_count": null,
   "id": "ed78e31f-a8fd-405d-9033-3c707bef4733",
   "metadata": {},
   "outputs": [],
   "source": []
  }
 ],
 "metadata": {
  "kernelspec": {
   "display_name": "Python 3 (ipykernel)",
   "language": "python",
   "name": "python3"
  },
  "language_info": {
   "codemirror_mode": {
    "name": "ipython",
    "version": 3
   },
   "file_extension": ".py",
   "mimetype": "text/x-python",
   "name": "python",
   "nbconvert_exporter": "python",
   "pygments_lexer": "ipython3",
   "version": "3.12.4"
  }
 },
 "nbformat": 4,
 "nbformat_minor": 5
}
